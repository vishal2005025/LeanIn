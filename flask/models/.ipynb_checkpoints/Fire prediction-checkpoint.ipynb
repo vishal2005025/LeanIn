{
 "cells": [
  {
   "cell_type": "code",
   "execution_count": 3,
   "id": "3fb929d4-32e6-4e17-a602-815b10e7c835",
   "metadata": {},
   "outputs": [],
   "source": [
    "import pandas as pd\n",
    "import numpy as np\n",
    "import matplotlib.pyplot as plt\n",
    "import seaborn as sns\n",
    "from sklearn.preprocessing import StandardScaler\n",
    "from sklearn.model_selection import train_test_split, GridSearchCV, StratifiedKFold\n",
    "from sklearn.preprocessing import OneHotEncoder\n",
    "from sklearn.feature_selection import SelectKBest, chi2, f_classif\n",
    "import plotly.express as px\n",
    "import plotly.graph_objects as go\n",
    "from sklearn.linear_model import LogisticRegression\n",
    "from sklearn.metrics import accuracy_score, precision_score, recall_score, f1_score, roc_curve, auc, confusion_matrix\n",
    "from sklearn.metrics import classification_report, balanced_accuracy_score, explained_variance_score, precision_recall_curve\n",
    "from sklearn.metrics import zero_one_loss, cohen_kappa_score, roc_auc_score\n",
    "from sklearn.tree import DecisionTreeClassifier\n",
    "from sklearn.ensemble import RandomForestClassifier, AdaBoostClassifier\n",
    "from sklearn.neighbors import KNeighborsClassifier\n",
    "from sklearn.naive_bayes import GaussianNB\n",
    "from sklearn.svm import SVC\n",
    "import pickle\n",
    "%matplotlib inline"
   ]
  },
  {
   "cell_type": "code",
   "execution_count": 18,
   "id": "2f84c88c-fcdc-4821-956d-d89d34d62539",
   "metadata": {},
   "outputs": [],
   "source": [
    "df = pd.read_csv('D:/Rubix/data/fires_dataset.csv')\n",
    "#display all the columns of the dataframe\n",
    "pd.set_option('display.max_columns',None)"
   ]
  },
  {
   "cell_type": "code",
   "execution_count": 19,
   "id": "91c54f6c-913d-42c2-beb0-39df2ff3c4cf",
   "metadata": {},
   "outputs": [
    {
     "data": {
      "text/html": [
       "<div>\n",
       "<style scoped>\n",
       "    .dataframe tbody tr th:only-of-type {\n",
       "        vertical-align: middle;\n",
       "    }\n",
       "\n",
       "    .dataframe tbody tr th {\n",
       "        vertical-align: top;\n",
       "    }\n",
       "\n",
       "    .dataframe thead th {\n",
       "        text-align: right;\n",
       "    }\n",
       "</style>\n",
       "<table border=\"1\" class=\"dataframe\">\n",
       "  <thead>\n",
       "    <tr style=\"text-align: right;\">\n",
       "      <th></th>\n",
       "      <th>day</th>\n",
       "      <th>month</th>\n",
       "      <th>year</th>\n",
       "      <th>Temperature</th>\n",
       "      <th>RH</th>\n",
       "      <th>Ws</th>\n",
       "      <th>Rain</th>\n",
       "      <th>FFMC</th>\n",
       "      <th>DMC</th>\n",
       "      <th>DC</th>\n",
       "      <th>ISI</th>\n",
       "      <th>BUI</th>\n",
       "      <th>FWI</th>\n",
       "      <th>Classes</th>\n",
       "    </tr>\n",
       "  </thead>\n",
       "  <tbody>\n",
       "    <tr>\n",
       "      <th>0</th>\n",
       "      <td>1</td>\n",
       "      <td>6</td>\n",
       "      <td>2012</td>\n",
       "      <td>32</td>\n",
       "      <td>71</td>\n",
       "      <td>12</td>\n",
       "      <td>0.7</td>\n",
       "      <td>57.1</td>\n",
       "      <td>2.5</td>\n",
       "      <td>8.2</td>\n",
       "      <td>0.6</td>\n",
       "      <td>2.8</td>\n",
       "      <td>0.2</td>\n",
       "      <td>not fire</td>\n",
       "    </tr>\n",
       "    <tr>\n",
       "      <th>1</th>\n",
       "      <td>2</td>\n",
       "      <td>6</td>\n",
       "      <td>2012</td>\n",
       "      <td>30</td>\n",
       "      <td>73</td>\n",
       "      <td>13</td>\n",
       "      <td>4.0</td>\n",
       "      <td>55.7</td>\n",
       "      <td>2.7</td>\n",
       "      <td>7.8</td>\n",
       "      <td>0.6</td>\n",
       "      <td>2.9</td>\n",
       "      <td>0.2</td>\n",
       "      <td>not fire</td>\n",
       "    </tr>\n",
       "    <tr>\n",
       "      <th>2</th>\n",
       "      <td>3</td>\n",
       "      <td>6</td>\n",
       "      <td>2012</td>\n",
       "      <td>29</td>\n",
       "      <td>80</td>\n",
       "      <td>14</td>\n",
       "      <td>2.0</td>\n",
       "      <td>48.7</td>\n",
       "      <td>2.2</td>\n",
       "      <td>7.6</td>\n",
       "      <td>0.3</td>\n",
       "      <td>2.6</td>\n",
       "      <td>0.1</td>\n",
       "      <td>not fire</td>\n",
       "    </tr>\n",
       "    <tr>\n",
       "      <th>3</th>\n",
       "      <td>4</td>\n",
       "      <td>6</td>\n",
       "      <td>2012</td>\n",
       "      <td>30</td>\n",
       "      <td>64</td>\n",
       "      <td>14</td>\n",
       "      <td>0.0</td>\n",
       "      <td>79.4</td>\n",
       "      <td>5.2</td>\n",
       "      <td>15.4</td>\n",
       "      <td>2.2</td>\n",
       "      <td>5.6</td>\n",
       "      <td>1</td>\n",
       "      <td>not fire</td>\n",
       "    </tr>\n",
       "    <tr>\n",
       "      <th>4</th>\n",
       "      <td>5</td>\n",
       "      <td>6</td>\n",
       "      <td>2012</td>\n",
       "      <td>32</td>\n",
       "      <td>60</td>\n",
       "      <td>14</td>\n",
       "      <td>0.2</td>\n",
       "      <td>77.1</td>\n",
       "      <td>6.0</td>\n",
       "      <td>17.6</td>\n",
       "      <td>1.8</td>\n",
       "      <td>6.5</td>\n",
       "      <td>0.9</td>\n",
       "      <td>not fire</td>\n",
       "    </tr>\n",
       "  </tbody>\n",
       "</table>\n",
       "</div>"
      ],
      "text/plain": [
       "   day  month  year  Temperature   RH   Ws  Rain   FFMC  DMC    DC  ISI  BUI  \\\n",
       "0    1      6  2012           32   71   12    0.7  57.1  2.5   8.2  0.6  2.8   \n",
       "1    2      6  2012           30   73   13    4.0  55.7  2.7   7.8  0.6  2.9   \n",
       "2    3      6  2012           29   80   14    2.0  48.7  2.2   7.6  0.3  2.6   \n",
       "3    4      6  2012           30   64   14    0.0  79.4  5.2  15.4  2.2  5.6   \n",
       "4    5      6  2012           32   60   14    0.2  77.1  6.0  17.6  1.8  6.5   \n",
       "\n",
       "   FWI    Classes    \n",
       "0  0.2  not fire     \n",
       "1  0.2  not fire     \n",
       "2  0.1  not fire     \n",
       "3    1  not fire     \n",
       "4  0.9  not fire     "
      ]
     },
     "execution_count": 19,
     "metadata": {},
     "output_type": "execute_result"
    }
   ],
   "source": [
    "df.head()"
   ]
  },
  {
   "cell_type": "code",
   "execution_count": 20,
   "id": "8fc1ac22-9278-4041-8281-078d2e0fdb17",
   "metadata": {},
   "outputs": [
    {
     "name": "stdout",
     "output_type": "stream",
     "text": [
      "<class 'pandas.core.frame.DataFrame'>\n",
      "RangeIndex: 122 entries, 0 to 121\n",
      "Data columns (total 14 columns):\n",
      " #   Column       Non-Null Count  Dtype  \n",
      "---  ------       --------------  -----  \n",
      " 0   day          122 non-null    int64  \n",
      " 1   month        122 non-null    int64  \n",
      " 2   year         122 non-null    int64  \n",
      " 3   Temperature  122 non-null    int64  \n",
      " 4    RH          122 non-null    int64  \n",
      " 5    Ws          122 non-null    int64  \n",
      " 6   Rain         122 non-null    float64\n",
      " 7   FFMC         122 non-null    float64\n",
      " 8   DMC          122 non-null    float64\n",
      " 9   DC           122 non-null    object \n",
      " 10  ISI          122 non-null    float64\n",
      " 11  BUI          122 non-null    float64\n",
      " 12  FWI          122 non-null    object \n",
      " 13  Classes      121 non-null    object \n",
      "dtypes: float64(5), int64(6), object(3)\n",
      "memory usage: 13.5+ KB\n"
     ]
    }
   ],
   "source": [
    "df.info()"
   ]
  },
  {
   "cell_type": "code",
   "execution_count": 21,
   "id": "92dc7392-3843-4d3a-abb5-65cca2f4097c",
   "metadata": {},
   "outputs": [
    {
     "data": {
      "text/plain": [
       "array([ 1,  2,  3,  4,  5,  6,  7,  8,  9, 10, 11, 12, 13, 14, 15, 16, 17,\n",
       "       18, 19, 20, 21, 22, 23, 24, 25, 26, 27, 28, 29, 30, 31],\n",
       "      dtype=int64)"
      ]
     },
     "execution_count": 21,
     "metadata": {},
     "output_type": "execute_result"
    }
   ],
   "source": [
    "df['day'].unique()"
   ]
  },
  {
   "cell_type": "code",
   "execution_count": 22,
   "id": "4e054d2d-106e-478a-b652-3643de196689",
   "metadata": {},
   "outputs": [
    {
     "name": "stdout",
     "output_type": "stream",
     "text": [
      "(122, 14)\n",
      "(122, 14)\n"
     ]
    }
   ],
   "source": [
    "data = df.copy()\n",
    "print(data.shape)\n",
    "data = data.dropna(how = 'all')\n",
    "print(data.shape)"
   ]
  },
  {
   "cell_type": "code",
   "execution_count": 23,
   "id": "98e7038e-db51-452e-bb70-f609395c9556",
   "metadata": {},
   "outputs": [],
   "source": [
    "data.drop(data[data['day'] == 'Sidi-Bel Abbes Region Dataset'].index, inplace = True)"
   ]
  },
  {
   "cell_type": "code",
   "execution_count": 24,
   "id": "9002aa19-f5ed-4e95-bdbd-ecf3d09abfd9",
   "metadata": {},
   "outputs": [],
   "source": [
    "data.drop(data[data['day'] == 'day'].index, inplace = True)"
   ]
  },
  {
   "cell_type": "code",
   "execution_count": 25,
   "id": "34673425-abd4-4cf0-b75b-10c214575e13",
   "metadata": {},
   "outputs": [
    {
     "data": {
      "text/plain": [
       "day            0\n",
       "month          0\n",
       "year           0\n",
       "Temperature    0\n",
       " RH            0\n",
       " Ws            0\n",
       "Rain           0\n",
       "FFMC           0\n",
       "DMC            0\n",
       "DC             0\n",
       "ISI            0\n",
       "BUI            0\n",
       "FWI            0\n",
       "Classes        1\n",
       "dtype: int64"
      ]
     },
     "execution_count": 25,
     "metadata": {},
     "output_type": "execute_result"
    }
   ],
   "source": [
    "data.isnull().sum()"
   ]
  },
  {
   "cell_type": "code",
   "execution_count": 26,
   "id": "a6cb009a-73b9-4316-add6-18a335d697d7",
   "metadata": {},
   "outputs": [
    {
     "name": "stdout",
     "output_type": "stream",
     "text": [
      "<class 'pandas.core.frame.DataFrame'>\n",
      "RangeIndex: 122 entries, 0 to 121\n",
      "Data columns (total 14 columns):\n",
      " #   Column       Non-Null Count  Dtype  \n",
      "---  ------       --------------  -----  \n",
      " 0   day          122 non-null    int64  \n",
      " 1   month        122 non-null    int64  \n",
      " 2   year         122 non-null    int64  \n",
      " 3   Temperature  122 non-null    int64  \n",
      " 4    RH          122 non-null    int64  \n",
      " 5    Ws          122 non-null    int64  \n",
      " 6   Rain         122 non-null    float64\n",
      " 7   FFMC         122 non-null    float64\n",
      " 8   DMC          122 non-null    float64\n",
      " 9   DC           122 non-null    object \n",
      " 10  ISI          122 non-null    float64\n",
      " 11  BUI          122 non-null    float64\n",
      " 12  FWI          122 non-null    object \n",
      " 13  Classes      121 non-null    object \n",
      "dtypes: float64(5), int64(6), object(3)\n",
      "memory usage: 13.5+ KB\n"
     ]
    }
   ],
   "source": [
    "data.info()"
   ]
  },
  {
   "cell_type": "code",
   "execution_count": 27,
   "id": "3e88e4bb-82a4-4013-910c-81725bfcbd4d",
   "metadata": {},
   "outputs": [
    {
     "data": {
      "text/plain": [
       "array(['0.2', '0.1', '1', '0.9', '3.1', '6', '0.8', '1.9', '10', '16.7',\n",
       "       '12.9', '0.3', '0.6', '0.4', '4.9', '1.2', '5.3', '6.7', '9.5',\n",
       "       '12', '18.4', '7.2', '2.2', '0.5', '6.4', '5.2', '9.9', '15',\n",
       "       '6.3', '3', '1.3', '9.6', '4.7', 'fire   ', '14.1', '7.3', '7.7',\n",
       "       '9.1', '13', '17.3', '30', '25.4', '16.3', '2.5', '0.7', '3.2',\n",
       "       '9', '10.9', '13.2', '14.5', '13.5', '19.5', '20.9', '12.6', '5.9',\n",
       "       '12.7', '10.7', '21.6', '18.8', '10.5', '15.7', '5.5', '14.8',\n",
       "       '24', '26.3', '12.2', '18.1', '24.5', '26.9', '31.1', '30.3',\n",
       "       '26.1', '6.1', '16', '19.4', '0', '2.7', '3.7', '3.9', '10.3',\n",
       "       '5.7', '9.8', '19.3', '17.5', '15.4', '5.6', '3.8', '13.7', '15.2',\n",
       "       '6.5'], dtype=object)"
      ]
     },
     "execution_count": 27,
     "metadata": {},
     "output_type": "execute_result"
    }
   ],
   "source": [
    "data['FWI'].unique()"
   ]
  },
  {
   "cell_type": "code",
   "execution_count": 28,
   "id": "bd8b2e21-67c4-4c36-8409-819faf7dd474",
   "metadata": {},
   "outputs": [],
   "source": [
    "data.columns = data.columns.str.rstrip()\n",
    "data.columns = data.columns.str.lstrip()"
   ]
  },
  {
   "cell_type": "code",
   "execution_count": 29,
   "id": "53a1139a-20b4-4cb0-9975-a91052b1f793",
   "metadata": {},
   "outputs": [
    {
     "data": {
      "text/plain": [
       "Index(['day', 'month', 'year', 'Temperature', 'RH', 'Ws', 'Rain', 'FFMC',\n",
       "       'DMC', 'DC', 'ISI', 'BUI', 'FWI', 'Classes'],\n",
       "      dtype='object')"
      ]
     },
     "execution_count": 29,
     "metadata": {},
     "output_type": "execute_result"
    }
   ],
   "source": [
    "data.columns"
   ]
  },
  {
   "cell_type": "code",
   "execution_count": 30,
   "id": "ad1644cd-5eea-4cfd-8b8d-97f53c5e075b",
   "metadata": {},
   "outputs": [
    {
     "data": {
      "text/plain": [
       "array(['not fire   ', 'fire   ', 'not fire     ', nan, 'not fire    '],\n",
       "      dtype=object)"
      ]
     },
     "execution_count": 30,
     "metadata": {},
     "output_type": "execute_result"
    }
   ],
   "source": [
    "data['Classes'].unique()"
   ]
  },
  {
   "cell_type": "code",
   "execution_count": 31,
   "id": "531efddb-17e7-4860-a0a0-31cef264ab54",
   "metadata": {},
   "outputs": [
    {
     "data": {
      "text/plain": [
       "array(['not fire', 'fire', nan], dtype=object)"
      ]
     },
     "execution_count": 31,
     "metadata": {},
     "output_type": "execute_result"
    }
   ],
   "source": [
    "data['Classes'] = data['Classes'].str.rstrip()\n",
    "data['Classes'].unique()"
   ]
  },
  {
   "cell_type": "code",
   "execution_count": 32,
   "id": "a2dfa485-353c-4c6a-82dc-3ac67b68f840",
   "metadata": {},
   "outputs": [],
   "source": [
    "data['ISI'] = np.where(data['DC'] == '14.6 9','9',data['ISI'])\n",
    "data['BUI'] = np.where(data['DC'] == '14.6 9','12.5',data['BUI'])\n",
    "data['FWI'] = np.where(data['DC'] == '14.6 9','10.4',data['FWI'])\n",
    "data['Classes'] = np.where(data['DC'] == '14.6 9','fire',data['Classes'])\n",
    "data['DC'] = np.where(data['DC'] == '14.6 9','14.6',data['DC'])"
   ]
  },
  {
   "cell_type": "code",
   "execution_count": 33,
   "id": "1c56ed04-885d-4faf-a009-9f16c80ee604",
   "metadata": {},
   "outputs": [
    {
     "data": {
      "text/plain": [
       "array(['0.2', '0.1', '1', '0.9', '3.1', '6', '0.8', '1.9', '10', '16.7',\n",
       "       '12.9', '0.3', '0.6', '0.4', '4.9', '1.2', '5.3', '6.7', '9.5',\n",
       "       '12', '18.4', '7.2', '2.2', '0.5', '6.4', '5.2', '9.9', '15',\n",
       "       '6.3', '3', '1.3', '9.6', '4.7', '10.4', '14.1', '7.3', '7.7',\n",
       "       '9.1', '13', '17.3', '30', '25.4', '16.3', '2.5', '0.7', '3.2',\n",
       "       '9', '10.9', '13.2', '14.5', '13.5', '19.5', '20.9', '12.6', '5.9',\n",
       "       '12.7', '10.7', '21.6', '18.8', '10.5', '15.7', '5.5', '14.8',\n",
       "       '24', '26.3', '12.2', '18.1', '24.5', '26.9', '31.1', '30.3',\n",
       "       '26.1', '6.1', '16', '19.4', '0', '2.7', '3.7', '3.9', '10.3',\n",
       "       '5.7', '9.8', '19.3', '17.5', '15.4', '5.6', '3.8', '13.7', '15.2',\n",
       "       '6.5'], dtype=object)"
      ]
     },
     "execution_count": 33,
     "metadata": {},
     "output_type": "execute_result"
    }
   ],
   "source": [
    "data['FWI'].unique()"
   ]
  },
  {
   "cell_type": "code",
   "execution_count": 34,
   "id": "03c338d0-c088-4bb7-a2a8-b73534986e69",
   "metadata": {},
   "outputs": [
    {
     "data": {
      "text/plain": [
       "Index(['day', 'month', 'year', 'Temperature', 'RH', 'Ws'], dtype='object')"
      ]
     },
     "execution_count": 34,
     "metadata": {},
     "output_type": "execute_result"
    }
   ],
   "source": [
    "int_columns = data.columns[0:6]\n",
    "int_columns"
   ]
  },
  {
   "cell_type": "code",
   "execution_count": 35,
   "id": "283ae129-bcb5-411b-a4b5-bbf6bc769bac",
   "metadata": {},
   "outputs": [
    {
     "data": {
      "text/plain": [
       "Index(['Rain', 'FFMC', 'DMC', 'DC', 'ISI', 'BUI', 'FWI'], dtype='object')"
      ]
     },
     "execution_count": 35,
     "metadata": {},
     "output_type": "execute_result"
    }
   ],
   "source": [
    "float_columns = data.columns[6:-1]\n",
    "float_columns"
   ]
  },
  {
   "cell_type": "code",
   "execution_count": 36,
   "id": "ba97ea90-362c-479a-be65-a0c928cba904",
   "metadata": {},
   "outputs": [],
   "source": [
    "data[int_columns] = data[int_columns].astype('int')\n",
    "data[float_columns] = data[float_columns].astype('float')"
   ]
  },
  {
   "cell_type": "code",
   "execution_count": 37,
   "id": "14d023af-f0aa-47cc-97f4-d146db644f1b",
   "metadata": {},
   "outputs": [
    {
     "name": "stdout",
     "output_type": "stream",
     "text": [
      "<class 'pandas.core.frame.DataFrame'>\n",
      "RangeIndex: 122 entries, 0 to 121\n",
      "Data columns (total 14 columns):\n",
      " #   Column       Non-Null Count  Dtype  \n",
      "---  ------       --------------  -----  \n",
      " 0   day          122 non-null    int32  \n",
      " 1   month        122 non-null    int32  \n",
      " 2   year         122 non-null    int32  \n",
      " 3   Temperature  122 non-null    int32  \n",
      " 4   RH           122 non-null    int32  \n",
      " 5   Ws           122 non-null    int32  \n",
      " 6   Rain         122 non-null    float64\n",
      " 7   FFMC         122 non-null    float64\n",
      " 8   DMC          122 non-null    float64\n",
      " 9   DC           122 non-null    float64\n",
      " 10  ISI          122 non-null    float64\n",
      " 11  BUI          122 non-null    float64\n",
      " 12  FWI          122 non-null    float64\n",
      " 13  Classes      122 non-null    object \n",
      "dtypes: float64(7), int32(6), object(1)\n",
      "memory usage: 10.6+ KB\n"
     ]
    }
   ],
   "source": [
    "data.info()"
   ]
  },
  {
   "cell_type": "code",
   "execution_count": 38,
   "id": "040e318a-129a-4f52-8206-6672d9489153",
   "metadata": {},
   "outputs": [
    {
     "data": {
      "text/html": [
       "<div>\n",
       "<style scoped>\n",
       "    .dataframe tbody tr th:only-of-type {\n",
       "        vertical-align: middle;\n",
       "    }\n",
       "\n",
       "    .dataframe tbody tr th {\n",
       "        vertical-align: top;\n",
       "    }\n",
       "\n",
       "    .dataframe thead th {\n",
       "        text-align: right;\n",
       "    }\n",
       "</style>\n",
       "<table border=\"1\" class=\"dataframe\">\n",
       "  <thead>\n",
       "    <tr style=\"text-align: right;\">\n",
       "      <th></th>\n",
       "      <th>day</th>\n",
       "      <th>month</th>\n",
       "      <th>year</th>\n",
       "      <th>Temperature</th>\n",
       "      <th>RH</th>\n",
       "      <th>Ws</th>\n",
       "      <th>Rain</th>\n",
       "      <th>FFMC</th>\n",
       "      <th>DMC</th>\n",
       "      <th>DC</th>\n",
       "      <th>ISI</th>\n",
       "      <th>BUI</th>\n",
       "      <th>FWI</th>\n",
       "    </tr>\n",
       "  </thead>\n",
       "  <tbody>\n",
       "    <tr>\n",
       "      <th>count</th>\n",
       "      <td>122.000000</td>\n",
       "      <td>122.000000</td>\n",
       "      <td>122.0</td>\n",
       "      <td>122.000000</td>\n",
       "      <td>122.000000</td>\n",
       "      <td>122.000000</td>\n",
       "      <td>122.000000</td>\n",
       "      <td>122.000000</td>\n",
       "      <td>122.000000</td>\n",
       "      <td>122.000000</td>\n",
       "      <td>122.000000</td>\n",
       "      <td>122.000000</td>\n",
       "      <td>122.000000</td>\n",
       "    </tr>\n",
       "    <tr>\n",
       "      <th>mean</th>\n",
       "      <td>15.754098</td>\n",
       "      <td>7.500000</td>\n",
       "      <td>2012.0</td>\n",
       "      <td>33.163934</td>\n",
       "      <td>55.901639</td>\n",
       "      <td>15.008197</td>\n",
       "      <td>0.678689</td>\n",
       "      <td>81.102459</td>\n",
       "      <td>17.031967</td>\n",
       "      <td>45.415574</td>\n",
       "      <td>5.863934</td>\n",
       "      <td>17.920492</td>\n",
       "      <td>8.520492</td>\n",
       "    </tr>\n",
       "    <tr>\n",
       "      <th>std</th>\n",
       "      <td>8.843274</td>\n",
       "      <td>1.115259</td>\n",
       "      <td>0.0</td>\n",
       "      <td>3.675608</td>\n",
       "      <td>15.716186</td>\n",
       "      <td>2.692186</td>\n",
       "      <td>1.486759</td>\n",
       "      <td>12.244064</td>\n",
       "      <td>12.995068</td>\n",
       "      <td>42.927562</td>\n",
       "      <td>4.803667</td>\n",
       "      <td>13.870785</td>\n",
       "      <td>8.137424</td>\n",
       "    </tr>\n",
       "    <tr>\n",
       "      <th>min</th>\n",
       "      <td>1.000000</td>\n",
       "      <td>6.000000</td>\n",
       "      <td>2012.0</td>\n",
       "      <td>24.000000</td>\n",
       "      <td>21.000000</td>\n",
       "      <td>6.000000</td>\n",
       "      <td>0.000000</td>\n",
       "      <td>37.900000</td>\n",
       "      <td>0.900000</td>\n",
       "      <td>7.300000</td>\n",
       "      <td>0.100000</td>\n",
       "      <td>1.400000</td>\n",
       "      <td>0.000000</td>\n",
       "    </tr>\n",
       "    <tr>\n",
       "      <th>25%</th>\n",
       "      <td>8.000000</td>\n",
       "      <td>7.000000</td>\n",
       "      <td>2012.0</td>\n",
       "      <td>30.000000</td>\n",
       "      <td>43.250000</td>\n",
       "      <td>14.000000</td>\n",
       "      <td>0.000000</td>\n",
       "      <td>77.650000</td>\n",
       "      <td>7.325000</td>\n",
       "      <td>14.700000</td>\n",
       "      <td>1.825000</td>\n",
       "      <td>7.400000</td>\n",
       "      <td>0.925000</td>\n",
       "    </tr>\n",
       "    <tr>\n",
       "      <th>50%</th>\n",
       "      <td>16.000000</td>\n",
       "      <td>7.500000</td>\n",
       "      <td>2012.0</td>\n",
       "      <td>34.000000</td>\n",
       "      <td>56.000000</td>\n",
       "      <td>15.000000</td>\n",
       "      <td>0.000000</td>\n",
       "      <td>84.850000</td>\n",
       "      <td>13.150000</td>\n",
       "      <td>31.500000</td>\n",
       "      <td>4.600000</td>\n",
       "      <td>13.900000</td>\n",
       "      <td>6.050000</td>\n",
       "    </tr>\n",
       "    <tr>\n",
       "      <th>75%</th>\n",
       "      <td>23.000000</td>\n",
       "      <td>8.000000</td>\n",
       "      <td>2012.0</td>\n",
       "      <td>36.000000</td>\n",
       "      <td>66.750000</td>\n",
       "      <td>16.750000</td>\n",
       "      <td>0.475000</td>\n",
       "      <td>89.275000</td>\n",
       "      <td>22.900000</td>\n",
       "      <td>56.975000</td>\n",
       "      <td>8.625000</td>\n",
       "      <td>23.875000</td>\n",
       "      <td>13.650000</td>\n",
       "    </tr>\n",
       "    <tr>\n",
       "      <th>max</th>\n",
       "      <td>31.000000</td>\n",
       "      <td>9.000000</td>\n",
       "      <td>2012.0</td>\n",
       "      <td>42.000000</td>\n",
       "      <td>90.000000</td>\n",
       "      <td>29.000000</td>\n",
       "      <td>8.700000</td>\n",
       "      <td>96.000000</td>\n",
       "      <td>65.900000</td>\n",
       "      <td>177.300000</td>\n",
       "      <td>19.000000</td>\n",
       "      <td>68.000000</td>\n",
       "      <td>31.100000</td>\n",
       "    </tr>\n",
       "  </tbody>\n",
       "</table>\n",
       "</div>"
      ],
      "text/plain": [
       "              day       month    year  Temperature          RH          Ws  \\\n",
       "count  122.000000  122.000000   122.0   122.000000  122.000000  122.000000   \n",
       "mean    15.754098    7.500000  2012.0    33.163934   55.901639   15.008197   \n",
       "std      8.843274    1.115259     0.0     3.675608   15.716186    2.692186   \n",
       "min      1.000000    6.000000  2012.0    24.000000   21.000000    6.000000   \n",
       "25%      8.000000    7.000000  2012.0    30.000000   43.250000   14.000000   \n",
       "50%     16.000000    7.500000  2012.0    34.000000   56.000000   15.000000   \n",
       "75%     23.000000    8.000000  2012.0    36.000000   66.750000   16.750000   \n",
       "max     31.000000    9.000000  2012.0    42.000000   90.000000   29.000000   \n",
       "\n",
       "             Rain        FFMC         DMC          DC         ISI         BUI  \\\n",
       "count  122.000000  122.000000  122.000000  122.000000  122.000000  122.000000   \n",
       "mean     0.678689   81.102459   17.031967   45.415574    5.863934   17.920492   \n",
       "std      1.486759   12.244064   12.995068   42.927562    4.803667   13.870785   \n",
       "min      0.000000   37.900000    0.900000    7.300000    0.100000    1.400000   \n",
       "25%      0.000000   77.650000    7.325000   14.700000    1.825000    7.400000   \n",
       "50%      0.000000   84.850000   13.150000   31.500000    4.600000   13.900000   \n",
       "75%      0.475000   89.275000   22.900000   56.975000    8.625000   23.875000   \n",
       "max      8.700000   96.000000   65.900000  177.300000   19.000000   68.000000   \n",
       "\n",
       "              FWI  \n",
       "count  122.000000  \n",
       "mean     8.520492  \n",
       "std      8.137424  \n",
       "min      0.000000  \n",
       "25%      0.925000  \n",
       "50%      6.050000  \n",
       "75%     13.650000  \n",
       "max     31.100000  "
      ]
     },
     "execution_count": 38,
     "metadata": {},
     "output_type": "execute_result"
    }
   ],
   "source": [
    "data.describe()"
   ]
  },
  {
   "cell_type": "code",
   "execution_count": 39,
   "id": "47a6ed77-6b31-4ab2-8f6b-b56dc9730f5c",
   "metadata": {},
   "outputs": [
    {
     "data": {
      "text/plain": [
       "Index(['day', 'month', 'year', 'Temperature', 'RH', 'Ws', 'Rain', 'FFMC',\n",
       "       'DMC', 'DC', 'ISI', 'BUI', 'FWI'],\n",
       "      dtype='object')"
      ]
     },
     "execution_count": 39,
     "metadata": {},
     "output_type": "execute_result"
    }
   ],
   "source": [
    "num_col = data._get_numeric_data().columns\n",
    "num_col"
   ]
  },
  {
   "cell_type": "code",
   "execution_count": 42,
   "id": "58ce6012-1af8-4492-8f82-ec1ad29f8a52",
   "metadata": {},
   "outputs": [
    {
     "ename": "NameError",
     "evalue": "name 'seaborn' is not defined",
     "output_type": "error",
     "traceback": [
      "\u001b[1;31m---------------------------------------------------------------------------\u001b[0m",
      "\u001b[1;31mNameError\u001b[0m                                 Traceback (most recent call last)",
      "Cell \u001b[1;32mIn[42], line 7\u001b[0m\n\u001b[0;32m      5\u001b[0m \u001b[38;5;28;01mif\u001b[39;00m i \u001b[38;5;129;01min\u001b[39;00m [\u001b[38;5;124m'\u001b[39m\u001b[38;5;124mindex\u001b[39m\u001b[38;5;124m'\u001b[39m]:\n\u001b[0;32m      6\u001b[0m   \u001b[38;5;28;01mcontinue\u001b[39;00m\n\u001b[1;32m----> 7\u001b[0m \u001b[43mseaborn\u001b[49m\u001b[38;5;241m.\u001b[39mfactorplot(x\u001b[38;5;241m=\u001b[39m\u001b[38;5;124m\"\u001b[39m\u001b[38;5;124mindex\u001b[39m\u001b[38;5;124m\"\u001b[39m, y\u001b[38;5;241m=\u001b[39mi, data\u001b[38;5;241m=\u001b[39mdescribe_num_df)\n\u001b[0;32m      8\u001b[0m plt\u001b[38;5;241m.\u001b[39mshow()\n",
      "\u001b[1;31mNameError\u001b[0m: name 'seaborn' is not defined"
     ]
    }
   ],
   "source": [
    "describe_num_df = data.describe(include=['int64','float64'])\n",
    "describe_num_df.reset_index(inplace=True)\n",
    "describe_num_df = describe_num_df[describe_num_df['index'] != 'count']\n",
    "for i in num_col:\n",
    "  if i in ['index']:\n",
    "    continue\n",
    "  sns.factorplot(x=\"index\", y=i, data=describe_num_df)\n",
    "  plt.show()"
   ]
  },
  {
   "cell_type": "code",
   "execution_count": null,
   "id": "ab844267-37e1-4815-992d-7f2c59d8e61e",
   "metadata": {},
   "outputs": [],
   "source": []
  }
 ],
 "metadata": {
  "kernelspec": {
   "display_name": "Python 3 (ipykernel)",
   "language": "python",
   "name": "python3"
  },
  "language_info": {
   "codemirror_mode": {
    "name": "ipython",
    "version": 3
   },
   "file_extension": ".py",
   "mimetype": "text/x-python",
   "name": "python",
   "nbconvert_exporter": "python",
   "pygments_lexer": "ipython3",
   "version": "3.9.9"
  }
 },
 "nbformat": 4,
 "nbformat_minor": 5
}
